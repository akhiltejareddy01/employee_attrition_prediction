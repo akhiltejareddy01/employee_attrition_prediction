{
 "cells": [
  {
   "cell_type": "code",
   "execution_count": 1,
   "metadata": {},
   "outputs": [],
   "source": [
    "import numpy as np\n",
    "import pandas as pd\n",
    "\n",
    "import warnings\n",
    "warnings.filterwarnings(\"ignore\")\n",
    "\n",
    "from scipy import stats\n",
    "from statsmodels.stats import weightstats as stests\n",
    "import scipy.stats as stats\n",
    "from scipy.stats import chi2_contingency\n",
    "\n",
    "import matplotlib\n",
    "import matplotlib.pyplot as plt\n",
    "%matplotlib inline\n",
    "matplotlib.style.use('fivethirtyeight')\n",
    "import seaborn as sns\n",
    "import bokeh as bk\n",
    "\n",
    "import plotly.express as px\n",
    "import plotly.graph_objs as go\n",
    "\n",
    "import pickle as pk\n",
    "\n",
    "from sklearn import preprocessing\n",
    "from sklearn.model_selection import train_test_split\n",
    "from sklearn.preprocessing import OneHotEncoder\n",
    "from sklearn.preprocessing import LabelEncoder\n",
    "from sklearn.preprocessing import StandardScaler\n",
    "from sklearn.preprocessing import Normalizer\n",
    "from sklearn.preprocessing import MinMaxScaler\n",
    "from sklearn.preprocessing import RobustScaler\n",
    "from sklearn.decomposition import PCA\n",
    "\n",
    "from sklearn.ensemble import RandomForestRegressor\n",
    "from imblearn.combine import SMOTETomek\n",
    "from sklearn.linear_model import LogisticRegression\n",
    "from sklearn.neighbors import KNeighborsClassifier\n",
    "from sklearn import tree\n",
    "from sklearn.svm import SVC\n",
    "from sklearn.ensemble import StackingClassifier\n",
    "from sklearn.tree import DecisionTreeClassifier\n",
    "from sklearn.ensemble import RandomForestClassifier\n",
    "from sklearn.model_selection import GridSearchCV\n",
    "from sklearn.model_selection import RandomizedSearchCV\n",
    "from sklearn.model_selection import KFold\n",
    "from sklearn.model_selection import StratifiedKFold\n",
    "from sklearn.model_selection import cross_val_score\n",
    "from sklearn.metrics import accuracy_score, confusion_matrix, classification_report, recall_score, precision_score,roc_auc_score\n",
    "from sklearn.metrics import roc_curve\n",
    "from sklearn.metrics import ConfusionMatrixDisplay"
   ]
  },
  {
   "attachments": {},
   "cell_type": "markdown",
   "metadata": {},
   "source": [
    "# **Dependant and Independant Features**"
   ]
  },
  {
   "cell_type": "code",
   "execution_count": 2,
   "metadata": {},
   "outputs": [
    {
     "data": {
      "text/html": [
       "<div>\n",
       "<style scoped>\n",
       "    .dataframe tbody tr th:only-of-type {\n",
       "        vertical-align: middle;\n",
       "    }\n",
       "\n",
       "    .dataframe tbody tr th {\n",
       "        vertical-align: top;\n",
       "    }\n",
       "\n",
       "    .dataframe thead th {\n",
       "        text-align: right;\n",
       "    }\n",
       "</style>\n",
       "<table border=\"1\" class=\"dataframe\">\n",
       "  <thead>\n",
       "    <tr style=\"text-align: right;\">\n",
       "      <th></th>\n",
       "      <th>Age</th>\n",
       "      <th>DistanceFromHome</th>\n",
       "      <th>EnvironmentSatisfaction</th>\n",
       "      <th>JobInvolvement</th>\n",
       "      <th>JobRole</th>\n",
       "      <th>JobSatisfaction</th>\n",
       "      <th>NumCompaniesWorked</th>\n",
       "      <th>PercentSalaryHike</th>\n",
       "      <th>StockOptionLevel</th>\n",
       "      <th>TotalWorkingYears</th>\n",
       "      <th>WorkLifeBalance</th>\n",
       "      <th>YearsAtCompany</th>\n",
       "      <th>YearsInCurrentRole</th>\n",
       "      <th>Attrition</th>\n",
       "      <th>EducationField_Human Resources</th>\n",
       "      <th>EducationField_Life Sciences</th>\n",
       "      <th>EducationField_Marketing</th>\n",
       "      <th>EducationField_Medical</th>\n",
       "      <th>EducationField_Other</th>\n",
       "      <th>EducationField_Technical Degree</th>\n",
       "      <th>MaritalStatus_Divorced</th>\n",
       "      <th>MaritalStatus_Married</th>\n",
       "      <th>MaritalStatus_Single</th>\n",
       "      <th>OverTime_No</th>\n",
       "      <th>OverTime_Yes</th>\n",
       "      <th>DailyRate</th>\n",
       "      <th>MonthlyIncome</th>\n",
       "    </tr>\n",
       "  </thead>\n",
       "  <tbody>\n",
       "    <tr>\n",
       "      <th>0</th>\n",
       "      <td>41</td>\n",
       "      <td>1</td>\n",
       "      <td>2</td>\n",
       "      <td>3</td>\n",
       "      <td>2</td>\n",
       "      <td>4</td>\n",
       "      <td>8</td>\n",
       "      <td>11</td>\n",
       "      <td>0</td>\n",
       "      <td>8</td>\n",
       "      <td>1</td>\n",
       "      <td>6</td>\n",
       "      <td>4</td>\n",
       "      <td>1</td>\n",
       "      <td>0</td>\n",
       "      <td>1</td>\n",
       "      <td>0</td>\n",
       "      <td>0</td>\n",
       "      <td>0</td>\n",
       "      <td>0</td>\n",
       "      <td>0</td>\n",
       "      <td>0</td>\n",
       "      <td>1</td>\n",
       "      <td>0</td>\n",
       "      <td>1</td>\n",
       "      <td>0.430636</td>\n",
       "      <td>0.322430</td>\n",
       "    </tr>\n",
       "    <tr>\n",
       "      <th>1</th>\n",
       "      <td>49</td>\n",
       "      <td>8</td>\n",
       "      <td>3</td>\n",
       "      <td>2</td>\n",
       "      <td>4</td>\n",
       "      <td>2</td>\n",
       "      <td>1</td>\n",
       "      <td>23</td>\n",
       "      <td>1</td>\n",
       "      <td>10</td>\n",
       "      <td>3</td>\n",
       "      <td>10</td>\n",
       "      <td>7</td>\n",
       "      <td>0</td>\n",
       "      <td>0</td>\n",
       "      <td>1</td>\n",
       "      <td>0</td>\n",
       "      <td>0</td>\n",
       "      <td>0</td>\n",
       "      <td>0</td>\n",
       "      <td>0</td>\n",
       "      <td>1</td>\n",
       "      <td>0</td>\n",
       "      <td>1</td>\n",
       "      <td>0</td>\n",
       "      <td>-0.758671</td>\n",
       "      <td>0.110182</td>\n",
       "    </tr>\n",
       "    <tr>\n",
       "      <th>2</th>\n",
       "      <td>37</td>\n",
       "      <td>2</td>\n",
       "      <td>4</td>\n",
       "      <td>2</td>\n",
       "      <td>9</td>\n",
       "      <td>3</td>\n",
       "      <td>6</td>\n",
       "      <td>15</td>\n",
       "      <td>0</td>\n",
       "      <td>7</td>\n",
       "      <td>3</td>\n",
       "      <td>0</td>\n",
       "      <td>0</td>\n",
       "      <td>1</td>\n",
       "      <td>0</td>\n",
       "      <td>0</td>\n",
       "      <td>0</td>\n",
       "      <td>0</td>\n",
       "      <td>1</td>\n",
       "      <td>0</td>\n",
       "      <td>0</td>\n",
       "      <td>0</td>\n",
       "      <td>1</td>\n",
       "      <td>0</td>\n",
       "      <td>1</td>\n",
       "      <td>0.822254</td>\n",
       "      <td>-0.637482</td>\n",
       "    </tr>\n",
       "    <tr>\n",
       "      <th>3</th>\n",
       "      <td>33</td>\n",
       "      <td>3</td>\n",
       "      <td>4</td>\n",
       "      <td>3</td>\n",
       "      <td>4</td>\n",
       "      <td>3</td>\n",
       "      <td>1</td>\n",
       "      <td>11</td>\n",
       "      <td>0</td>\n",
       "      <td>8</td>\n",
       "      <td>3</td>\n",
       "      <td>8</td>\n",
       "      <td>7</td>\n",
       "      <td>0</td>\n",
       "      <td>0</td>\n",
       "      <td>1</td>\n",
       "      <td>0</td>\n",
       "      <td>0</td>\n",
       "      <td>0</td>\n",
       "      <td>0</td>\n",
       "      <td>0</td>\n",
       "      <td>1</td>\n",
       "      <td>0</td>\n",
       "      <td>0</td>\n",
       "      <td>1</td>\n",
       "      <td>0.849711</td>\n",
       "      <td>-0.436055</td>\n",
       "    </tr>\n",
       "    <tr>\n",
       "      <th>4</th>\n",
       "      <td>27</td>\n",
       "      <td>2</td>\n",
       "      <td>1</td>\n",
       "      <td>3</td>\n",
       "      <td>9</td>\n",
       "      <td>2</td>\n",
       "      <td>9</td>\n",
       "      <td>12</td>\n",
       "      <td>1</td>\n",
       "      <td>6</td>\n",
       "      <td>3</td>\n",
       "      <td>2</td>\n",
       "      <td>2</td>\n",
       "      <td>0</td>\n",
       "      <td>0</td>\n",
       "      <td>0</td>\n",
       "      <td>0</td>\n",
       "      <td>1</td>\n",
       "      <td>0</td>\n",
       "      <td>0</td>\n",
       "      <td>0</td>\n",
       "      <td>1</td>\n",
       "      <td>0</td>\n",
       "      <td>1</td>\n",
       "      <td>0</td>\n",
       "      <td>-0.307803</td>\n",
       "      <td>-0.298574</td>\n",
       "    </tr>\n",
       "  </tbody>\n",
       "</table>\n",
       "</div>"
      ],
      "text/plain": [
       "   Age  DistanceFromHome  EnvironmentSatisfaction  JobInvolvement  JobRole   \n",
       "0   41                 1                        2               3        2  \\\n",
       "1   49                 8                        3               2        4   \n",
       "2   37                 2                        4               2        9   \n",
       "3   33                 3                        4               3        4   \n",
       "4   27                 2                        1               3        9   \n",
       "\n",
       "   JobSatisfaction  NumCompaniesWorked  PercentSalaryHike  StockOptionLevel   \n",
       "0                4                   8                 11                 0  \\\n",
       "1                2                   1                 23                 1   \n",
       "2                3                   6                 15                 0   \n",
       "3                3                   1                 11                 0   \n",
       "4                2                   9                 12                 1   \n",
       "\n",
       "   TotalWorkingYears  WorkLifeBalance  YearsAtCompany  YearsInCurrentRole   \n",
       "0                  8                1               6                   4  \\\n",
       "1                 10                3              10                   7   \n",
       "2                  7                3               0                   0   \n",
       "3                  8                3               8                   7   \n",
       "4                  6                3               2                   2   \n",
       "\n",
       "   Attrition  EducationField_Human Resources  EducationField_Life Sciences   \n",
       "0          1                               0                             1  \\\n",
       "1          0                               0                             1   \n",
       "2          1                               0                             0   \n",
       "3          0                               0                             1   \n",
       "4          0                               0                             0   \n",
       "\n",
       "   EducationField_Marketing  EducationField_Medical  EducationField_Other   \n",
       "0                         0                       0                     0  \\\n",
       "1                         0                       0                     0   \n",
       "2                         0                       0                     1   \n",
       "3                         0                       0                     0   \n",
       "4                         0                       1                     0   \n",
       "\n",
       "   EducationField_Technical Degree  MaritalStatus_Divorced   \n",
       "0                                0                       0  \\\n",
       "1                                0                       0   \n",
       "2                                0                       0   \n",
       "3                                0                       0   \n",
       "4                                0                       0   \n",
       "\n",
       "   MaritalStatus_Married  MaritalStatus_Single  OverTime_No  OverTime_Yes   \n",
       "0                      0                     1            0             1  \\\n",
       "1                      1                     0            1             0   \n",
       "2                      0                     1            0             1   \n",
       "3                      1                     0            0             1   \n",
       "4                      1                     0            1             0   \n",
       "\n",
       "   DailyRate  MonthlyIncome  \n",
       "0   0.430636       0.322430  \n",
       "1  -0.758671       0.110182  \n",
       "2   0.822254      -0.637482  \n",
       "3   0.849711      -0.436055  \n",
       "4  -0.307803      -0.298574  "
      ]
     },
     "execution_count": 2,
     "metadata": {},
     "output_type": "execute_result"
    }
   ],
   "source": [
    "#importind tha finalised dataset\n",
    "data=pd.read_csv('E:/HR analytics and prediction/processed datasets/final_dataset.csv')\n",
    "pd.set_option(\"display.max_columns\", 10000)\n",
    "data.drop(['Unnamed: 0','Education'],axis=1,inplace=True)\n",
    "\n",
    "data_dup=data.copy()#creating a duplicate copy\n",
    "\n",
    "data.head()"
   ]
  },
  {
   "cell_type": "code",
   "execution_count": 3,
   "metadata": {},
   "outputs": [
    {
     "name": "stdout",
     "output_type": "stream",
     "text": [
      "Attrition\n",
      "0    1141\n",
      "1     232\n",
      "Name: count, dtype: int64\n"
     ]
    },
    {
     "data": {
      "text/html": [
       "<div>\n",
       "<style scoped>\n",
       "    .dataframe tbody tr th:only-of-type {\n",
       "        vertical-align: middle;\n",
       "    }\n",
       "\n",
       "    .dataframe tbody tr th {\n",
       "        vertical-align: top;\n",
       "    }\n",
       "\n",
       "    .dataframe thead th {\n",
       "        text-align: right;\n",
       "    }\n",
       "</style>\n",
       "<table border=\"1\" class=\"dataframe\">\n",
       "  <thead>\n",
       "    <tr style=\"text-align: right;\">\n",
       "      <th></th>\n",
       "      <th>Attrition</th>\n",
       "    </tr>\n",
       "  </thead>\n",
       "  <tbody>\n",
       "    <tr>\n",
       "      <th>0</th>\n",
       "      <td>1</td>\n",
       "    </tr>\n",
       "    <tr>\n",
       "      <th>1</th>\n",
       "      <td>0</td>\n",
       "    </tr>\n",
       "    <tr>\n",
       "      <th>2</th>\n",
       "      <td>1</td>\n",
       "    </tr>\n",
       "    <tr>\n",
       "      <th>3</th>\n",
       "      <td>0</td>\n",
       "    </tr>\n",
       "    <tr>\n",
       "      <th>4</th>\n",
       "      <td>0</td>\n",
       "    </tr>\n",
       "  </tbody>\n",
       "</table>\n",
       "</div>"
      ],
      "text/plain": [
       "   Attrition\n",
       "0          1\n",
       "1          0\n",
       "2          1\n",
       "3          0\n",
       "4          0"
      ]
     },
     "execution_count": 3,
     "metadata": {},
     "output_type": "execute_result"
    }
   ],
   "source": [
    "#seperating dependant features into x_data and independant features into y_data\n",
    "x_data=pd.DataFrame()\n",
    "y_data=pd.DataFrame()\n",
    "y_data['Attrition']=data['Attrition']\n",
    "x_data=data.drop(['Attrition'],axis=1)\n",
    "print(y_data['Attrition'].value_counts())\n",
    "y_data.head()"
   ]
  },
  {
   "cell_type": "code",
   "execution_count": 4,
   "metadata": {},
   "outputs": [],
   "source": [
    "#converting the above two datasets into listed format\n",
    "y= y_data.iloc[:,0]\n",
    "x=x_data.iloc[:,:]"
   ]
  },
  {
   "attachments": {},
   "cell_type": "markdown",
   "metadata": {},
   "source": [
    "# **Checking Imbalency in target feature**"
   ]
  },
  {
   "cell_type": "code",
   "execution_count": 5,
   "metadata": {},
   "outputs": [
    {
     "name": "stdout",
     "output_type": "stream",
     "text": [
      "0.203330411919369\n"
     ]
    }
   ],
   "source": [
    "#checking for count of attrition data\n",
    "y_counts=y.value_counts()\n",
    "#there is so much of imbalnecy\n",
    "#necessary steps needs to be taken to prevent the imbalency\n",
    "\n",
    "ratio_y= y_counts[1]/y_counts[0]\n",
    "print(ratio_y)"
   ]
  },
  {
   "cell_type": "code",
   "execution_count": 6,
   "metadata": {},
   "outputs": [
    {
     "name": "stdout",
     "output_type": "stream",
     "text": [
      "Attrition\n",
      "0    1120\n",
      "1     538\n",
      "Name: count, dtype: int64\n",
      "(1658, 26)\n"
     ]
    }
   ],
   "source": [
    "#initializing oversampling using SMOTE\n",
    "smote = SMOTETomek(sampling_strategy=0.49,random_state=111)\n",
    "\n",
    "#fitting the data and resampling it\n",
    "x_sm,y_sm = smote.fit_resample(x,y)\n",
    "\n",
    "#now x_sm, y_sm are resampled data\n",
    "\n",
    "#retirieving the resampled data\n",
    "print(y_sm.value_counts())\n",
    "print(x_sm.shape)"
   ]
  },
  {
   "attachments": {},
   "cell_type": "markdown",
   "metadata": {},
   "source": [
    "# **Using ML Algorithms to predict the outcome**"
   ]
  },
  {
   "cell_type": "code",
   "execution_count": 7,
   "metadata": {},
   "outputs": [
    {
     "name": "stdout",
     "output_type": "stream",
     "text": [
      "{'n_estimators': [200, 400, 600, 800, 1000, 1200, 1400, 1600, 1800, 2000], 'max_features': ['auto', 'sqrt'], 'max_depth': [10, 20, 30, 40, 50, 60, 70, 80, 90, 100, 110, None], 'min_samples_split': [2, 5, 10], 'min_samples_leaf': [1, 2, 4], 'bootstrap': [True, False]}\n"
     ]
    }
   ],
   "source": [
    "from sklearn.model_selection import RandomizedSearchCV\n",
    "# Number of trees in random forest\n",
    "n_estimators = [int(x) for x in np.linspace(start = 200, stop = 2000, num = 10)]\n",
    "# Number of features to consider at every split\n",
    "max_features = ['auto', 'sqrt']\n",
    "# Maximum number of levels in tree\n",
    "max_depth = [int(x) for x in np.linspace(10, 110, num = 11)]\n",
    "max_depth.append(None)\n",
    "# Minimum number of samples required to split a node\n",
    "min_samples_split = [2, 5, 10]\n",
    "# Minimum number of samples required at each leaf node\n",
    "min_samples_leaf = [1, 2, 4]\n",
    "# Method of selecting samples for training each tree\n",
    "bootstrap = [True, False]\n",
    "# Create the random grid\n",
    "random_grid = {'n_estimators': n_estimators,\n",
    "               'max_features': max_features,\n",
    "               'max_depth': max_depth,\n",
    "               'min_samples_split': min_samples_split,\n",
    "               'min_samples_leaf': min_samples_leaf,\n",
    "               'bootstrap': bootstrap}\n",
    "print(random_grid)"
   ]
  },
  {
   "cell_type": "code",
   "execution_count": 8,
   "metadata": {},
   "outputs": [
    {
     "name": "stdout",
     "output_type": "stream",
     "text": [
      "(1326, 26) (332, 26) (1326,) (332,)\n"
     ]
    }
   ],
   "source": [
    "#dividing the data into train_test_split\n",
    "train_x,test_x,train_y,test_y = train_test_split(x_sm,y_sm,test_size=0.2,random_state=44)\n",
    "print(train_x.shape,test_x.shape,train_y.shape,test_y.shape) #printing the shapes to check whether data is spreaded into it correcty"
   ]
  },
  {
   "attachments": {},
   "cell_type": "markdown",
   "metadata": {},
   "source": [
    "**Using Logistic Regression**"
   ]
  },
  {
   "cell_type": "code",
   "execution_count": 9,
   "metadata": {},
   "outputs": [],
   "source": [
    "#using logistic regression to fit the training data and predicting the test data\n",
    "lgr = LogisticRegression(fit_intercept=True) #calling the lgr function\n",
    "data_fit= lgr.fit(train_x,train_y) #fitting and training the machine\n",
    "data_predict = data_fit.predict(test_x) # predicting using test data"
   ]
  },
  {
   "cell_type": "code",
   "execution_count": 10,
   "metadata": {},
   "outputs": [
    {
     "name": "stdout",
     "output_type": "stream",
     "text": [
      "[[218  12]\n",
      " [ 32  70]]\n"
     ]
    },
    {
     "data": {
      "image/png": "[encoded data removed]",
      "text/plain": [
       "<Figure size 300x300 with 1 Axes>"
      ]
     },
     "metadata": {},
     "output_type": "display_data"
    },
    {
     "name": "stdout",
     "output_type": "stream",
     "text": [
      "The accuracy of this model is 86.75 %.\n",
      "The recall of this model is 68.63 %.\n",
      "\n"
     ]
    }
   ],
   "source": [
    "#creating a confusion matrix to show correctly predicted values\n",
    "cm = confusion_matrix(test_y, data_predict)\n",
    "print(cm)\n",
    "\n",
    "fig, ax = plt.subplots(figsize=(3, 3))\n",
    "ax.matshow(cm, cmap=plt.cm.Blues, alpha=0.3)\n",
    "for i in range(cm.shape[0]):\n",
    "    for j in range(cm.shape[1]):\n",
    "        ax.text(x=j, y=i,s=cm[i, j], va='center', ha='center', size='large')\n",
    " \n",
    "plt.xlabel('Predictions', fontsize=12)\n",
    "plt.ylabel('Actuals', fontsize=12)\n",
    "plt.title('Confusion Matrix', fontsize=12)\n",
    "plt.show()\n",
    "# plot(cm)\n",
    "\n",
    "### Printing the accuracy and recall of the model\n",
    "\n",
    "logistic_regression_accuracy = round(100 * accuracy_score(test_y, data_predict), 2)\n",
    "\n",
    "logistic_regression_recall = round(100 * recall_score(test_y, data_predict), 2)\n",
    "\n",
    "print('The accuracy of this model is {} %.'.format(logistic_regression_accuracy))\n",
    "print('The recall of this model is {} %.'.format(logistic_regression_recall))\n",
    "print()"
   ]
  },
  {
   "attachments": {},
   "cell_type": "markdown",
   "metadata": {},
   "source": [
    "**Using KNearestNeighbour Classifier**"
   ]
  },
  {
   "cell_type": "code",
   "execution_count": 11,
   "metadata": {},
   "outputs": [],
   "source": [
    "knn = KNeighborsClassifier(n_neighbors=5,algorithm='auto',p=2,metric='minkowski') #calling the lgr function\n",
    "data_fit_knn= knn.fit(train_x,train_y) #fitting and training the machine\n",
    "data_predict_knn = data_fit_knn.predict(test_x)"
   ]
  },
  {
   "cell_type": "code",
   "execution_count": 12,
   "metadata": {},
   "outputs": [
    {
     "name": "stdout",
     "output_type": "stream",
     "text": [
      "[[196  34]\n",
      " [ 27  75]]\n"
     ]
    },
    {
     "data": {
      "image/png": "[encoded data removed]",
      "text/plain": [
       "<Figure size 300x300 with 1 Axes>"
      ]
     },
     "metadata": {},
     "output_type": "display_data"
    },
    {
     "name": "stdout",
     "output_type": "stream",
     "text": [
      "The accuracy of this model is 81.63 %.\n",
      "The recall of this model is 73.53 %.\n",
      "\n"
     ]
    }
   ],
   "source": [
    "#creating a confusion matrix to show correctly predicted values\n",
    "cm1 = confusion_matrix(test_y, data_predict_knn)\n",
    "print(cm1)\n",
    "\n",
    "fig, ax = plt.subplots(figsize=(3, 3))\n",
    "ax.matshow(cm1, cmap=plt.cm.Blues, alpha=0.3)\n",
    "for i in range(cm1.shape[0]):\n",
    "    for j in range(cm1.shape[1]):\n",
    "        ax.text(x=j, y=i,s=cm1[i, j], va='center', ha='center', size='large')\n",
    " \n",
    "plt.xlabel('Predictions', fontsize=12)\n",
    "plt.ylabel('Actuals', fontsize=12)\n",
    "plt.title('Confusion Matrix', fontsize=12)\n",
    "plt.show()\n",
    "# plot(cm)\n",
    "\n",
    "### Printing the accuracy and recall of the model\n",
    "\n",
    "knn_accuracy = round(100 * accuracy_score(test_y, data_predict_knn), 2)\n",
    "\n",
    "knn_recall = round(100 * recall_score(test_y, data_predict_knn), 2)\n",
    "\n",
    "print('The accuracy of this model is {} %.'.format(knn_accuracy))\n",
    "print('The recall of this model is {} %.'.format(knn_recall))\n",
    "print()"
   ]
  },
  {
   "attachments": {},
   "cell_type": "markdown",
   "metadata": {},
   "source": [
    "**Using Decision Tree Classifier**"
   ]
  },
  {
   "cell_type": "code",
   "execution_count": 13,
   "metadata": {},
   "outputs": [],
   "source": [
    "dtc = DecisionTreeClassifier(criterion='entropy', random_state=69) #calling decision tree classifier\n",
    "data_fit_dtc = dtc.fit(train_x,train_y)#fitting data and training the machine\n",
    "data_predict_dtc = data_fit_dtc.predict(test_x)#predictin and testing the machine\n"
   ]
  },
  {
   "cell_type": "code",
   "execution_count": 14,
   "metadata": {},
   "outputs": [
    {
     "name": "stdout",
     "output_type": "stream",
     "text": [
      "[[198  32]\n",
      " [ 24  78]]\n"
     ]
    },
    {
     "data": {
      "image/png": "[encoded data removed]",
      "text/plain": [
       "<Figure size 300x300 with 1 Axes>"
      ]
     },
     "metadata": {},
     "output_type": "display_data"
    },
    {
     "name": "stdout",
     "output_type": "stream",
     "text": [
      "The accuracy of this model is 83.13 %.\n",
      "The recall of this model is 76.47 %.\n",
      "\n"
     ]
    }
   ],
   "source": [
    "#creating a confusion matrix to show correctly predicted values\n",
    "cm2 = confusion_matrix(test_y, data_predict_dtc)\n",
    "print(cm2)\n",
    "\n",
    "fig, ax = plt.subplots(figsize=(3, 3))\n",
    "ax.matshow(cm2, cmap=plt.cm.Blues, alpha=0.3)\n",
    "for i in range(cm2.shape[0]):\n",
    "    for j in range(cm2.shape[1]):\n",
    "        ax.text(x=j, y=i,s=cm2[i, j], va='center', ha='center', size='large')\n",
    " \n",
    "plt.xlabel('Predictions', fontsize=12)\n",
    "plt.ylabel('Actuals', fontsize=12)\n",
    "plt.title('Confusion Matrix', fontsize=12)\n",
    "plt.show()\n",
    "# plot(cm)\n",
    "\n",
    "### Printing the accuracy and recall of the model\n",
    "\n",
    "dtc_accuracy = round(100 * accuracy_score(test_y, data_predict_dtc), 2)\n",
    "\n",
    "dtc_recall = round(100 * recall_score(test_y, data_predict_dtc), 2)\n",
    "\n",
    "print('The accuracy of this model is {} %.'.format(dtc_accuracy))\n",
    "print('The recall of this model is {} %.'.format(dtc_recall))\n",
    "print()"
   ]
  },
  {
   "attachments": {},
   "cell_type": "markdown",
   "metadata": {},
   "source": [
    "**Using RandomForest Classifier**"
   ]
  },
  {
   "cell_type": "code",
   "execution_count": 15,
   "metadata": {},
   "outputs": [
    {
     "name": "stdout",
     "output_type": "stream",
     "text": [
      "Fitting 3 folds for each of 100 candidates, totalling 300 fits\n"
     ]
    }
   ],
   "source": [
    "rfc = RandomForestClassifier()\n",
    "# Random search of parameters, using 3 fold cross validation, \n",
    "# search across 100 different combinations, and use all available cores\n",
    "rf_random = RandomizedSearchCV(estimator = rfc, param_distributions = random_grid, n_iter = 100, cv = 3, verbose=2, random_state=42, n_jobs = -1) #calling decision tree classifier\n",
    "data_fit_rfc = rf_random.fit(train_x,train_y)#fitting data and training the machine\n",
    "data_predict_rfc = data_fit_rfc.predict(test_x)#predictin and testing the machine"
   ]
  },
  {
   "cell_type": "code",
   "execution_count": 16,
   "metadata": {},
   "outputs": [
    {
     "name": "stdout",
     "output_type": "stream",
     "text": [
      "[[223   7]\n",
      " [ 19  83]]\n"
     ]
    },
    {
     "data": {
      "image/png": "[encoded data removed]",
      "text/plain": [
       "<Figure size 300x300 with 1 Axes>"
      ]
     },
     "metadata": {},
     "output_type": "display_data"
    },
    {
     "name": "stdout",
     "output_type": "stream",
     "text": [
      "The accuracy of this model is 92.17 %.\n",
      "The recall of this model is 81.37 %.\n",
      "\n"
     ]
    }
   ],
   "source": [
    "#creating a confusion matrix to show correctly predicted values\n",
    "cm3 = confusion_matrix(test_y, data_predict_rfc)\n",
    "print(cm3)\n",
    "\n",
    "fig, ax = plt.subplots(figsize=(3, 3))\n",
    "ax.matshow(cm3, cmap=plt.cm.Blues, alpha=0.3)\n",
    "for i in range(cm3.shape[0]):\n",
    "    for j in range(cm3.shape[1]):\n",
    "        ax.text(x=j, y=i,s=cm3[i, j], va='center', ha='center', size='large')\n",
    " \n",
    "plt.xlabel('Predictions', fontsize=12)\n",
    "plt.ylabel('Actuals', fontsize=12)\n",
    "plt.title('Confusion Matrix', fontsize=12)\n",
    "plt.show()\n",
    "# plot(cm)\n",
    "\n",
    "### Printing the accuracy and recall of the model\n",
    "\n",
    "rfc_accuracy = round(100 * accuracy_score(test_y, data_predict_rfc), 2)\n",
    "\n",
    "rfc_recall = round(100 * recall_score(test_y, data_predict_rfc), 2)\n",
    "\n",
    "print('The accuracy of this model is {} %.'.format(rfc_accuracy))\n",
    "print('The recall of this model is {} %.'.format(rfc_recall))\n",
    "print()"
   ]
  },
  {
   "attachments": {},
   "cell_type": "markdown",
   "metadata": {},
   "source": [
    "**Stacking Classifier**"
   ]
  },
  {
   "attachments": {},
   "cell_type": "markdown",
   "metadata": {},
   "source": [
    "Creating a stacking classifier based on several classifiers being performed before"
   ]
  },
  {
   "cell_type": "code",
   "execution_count": 17,
   "metadata": {},
   "outputs": [],
   "source": [
    "#defining base models\n",
    "base_models = list()\n",
    "base_models.append(('logistic_regression',lgr))\n",
    "base_models.append(('decision_tree',dtc))\n",
    "base_models.append(('random_forest',rfc))\n",
    "\n",
    "#defining meta model\n",
    "meta_model= knn"
   ]
  },
  {
   "cell_type": "code",
   "execution_count": 18,
   "metadata": {},
   "outputs": [],
   "source": [
    "#applying stacking classifier\n",
    "stc = StackingClassifier(estimators=base_models, final_estimator=meta_model)\n",
    "stc_fit= stc.fit(train_x,train_y)\n",
    "stc_predict = stc_fit.predict(test_x)"
   ]
  },
  {
   "cell_type": "code",
   "execution_count": 19,
   "metadata": {},
   "outputs": [
    {
     "name": "stdout",
     "output_type": "stream",
     "text": [
      "[[223   7]\n",
      " [ 19  83]]\n"
     ]
    },
    {
     "data": {
      "image/png": "[encoded data removed]",
      "text/plain": [
       "<Figure size 300x300 with 1 Axes>"
      ]
     },
     "metadata": {},
     "output_type": "display_data"
    },
    {
     "name": "stdout",
     "output_type": "stream",
     "text": [
      "The accuracy of this model is 90.96 %.\n",
      "The recall of this model is 82.35 %.\n",
      "\n"
     ]
    }
   ],
   "source": [
    "#creating a confusion matrix to show correctly predicted values\n",
    "cm4 = confusion_matrix(test_y, data_predict_rfc)\n",
    "print(cm4)\n",
    "\n",
    "fig, ax = plt.subplots(figsize=(3, 3))\n",
    "ax.matshow(cm4, cmap=plt.cm.Blues, alpha=0.3)\n",
    "for i in range(cm4.shape[0]):\n",
    "    for j in range(cm4.shape[1]):\n",
    "        ax.text(x=j, y=i,s=cm4[i, j], va='center', ha='center', size='large')\n",
    " \n",
    "plt.xlabel('Predictions', fontsize=12)\n",
    "plt.ylabel('Actuals', fontsize=12)\n",
    "plt.title('Confusion Matrix', fontsize=12)\n",
    "plt.show()\n",
    "# plot(cm)\n",
    "\n",
    "### Printing the accuracy and recall of the model\n",
    "\n",
    "stc_accuracy = round(100 * accuracy_score(test_y, stc_predict), 2)\n",
    "\n",
    "stc_recall = round(100 * recall_score(test_y, stc_predict), 2)\n",
    "\n",
    "print('The accuracy of this model is {} %.'.format(stc_accuracy))\n",
    "print('The recall of this model is {} %.'.format(stc_recall))\n",
    "print()"
   ]
  },
  {
   "attachments": {},
   "cell_type": "markdown",
   "metadata": {},
   "source": [
    "# **Extracting Pickle Files**"
   ]
  },
  {
   "cell_type": "code",
   "execution_count": 20,
   "metadata": {},
   "outputs": [],
   "source": [
    "#creating and dumping a logistic regression pickle file\n",
    "with open('lgr_model','wb') as files:\n",
    "    pk.dump(lgr,files)\n",
    "\n",
    "#creating and dumping a decision tree pickle file\n",
    "with open('dtc_model','wb') as files:\n",
    "    pk.dump(dtc,files)\n",
    "\n",
    "#creating and dumping a random forest pickle file\n",
    "with open('rfc_model','wb') as files:\n",
    "    pk.dump(rfc,files)\n",
    "\n",
    "#creating and dumping a knn pickle file\n",
    "with open('knn_model','wb') as files:\n",
    "    pk.dump(knn,files)\n",
    "\n",
    "#creating and dumping a stacking classifier pickle model\n",
    "with open('stc_model','wb') as files:\n",
    "    pk.dump(stc,files)"
   ]
  }
 ],
 "metadata": {
  "kernelspec": {
   "display_name": "myvenv",
   "language": "python",
   "name": "python3"
  },
  "language_info": {
   "codemirror_mode": {
    "name": "ipython",
    "version": 3
   },
   "file_extension": ".py",
   "mimetype": "text/x-python",
   "name": "python",
   "nbconvert_exporter": "python",
   "pygments_lexer": "ipython3",
   "version": "3.11.2"
  },
  "orig_nbformat": 4
 },
 "nbformat": 4,
 "nbformat_minor": 2
}
